{
 "cells": [
  {
   "cell_type": "code",
   "execution_count": 1,
   "metadata": {},
   "outputs": [
    {
     "data": {
      "text/plain": [
       "1548430"
      ]
     },
     "execution_count": 1,
     "metadata": {},
     "output_type": "execute_result"
    }
   ],
   "source": [
    "Graph = [i.split() for i in open('Graph.txt').readlines()]\n",
    "len(Graph)"
   ]
  },
  {
   "cell_type": "markdown",
   "metadata": {},
   "source": [
    "# important : \n",
    "## var Graph contains All tripple (head , relation ,tail)\n",
    "## if you have other format change it"
   ]
  },
  {
   "cell_type": "code",
   "execution_count": 2,
   "metadata": {},
   "outputs": [
    {
     "data": {
      "text/plain": [
       "[['376577', '773', '150272'],\n",
       " ['445884', '534', '480217'],\n",
       " ['64248', '905', '48068'],\n",
       " ['17737', '159', '371978'],\n",
       " ['270730', '925', '272282'],\n",
       " ['58245', '877', '479188'],\n",
       " ['201532', '695', '430651'],\n",
       " ['213164', '975', '73600'],\n",
       " ['210059', '102', '159057'],\n",
       " ['337483', '484', '396875']]"
      ]
     },
     "execution_count": 2,
     "metadata": {},
     "output_type": "execute_result"
    }
   ],
   "source": [
    "Graph = [[i[0],i[2],i[1]] for i in Graph]\n",
    "Graph[:10]"
   ]
  },
  {
   "cell_type": "markdown",
   "metadata": {},
   "source": [
    "## var matrix is Adjacency matrix of Graph"
   ]
  },
  {
   "cell_type": "code",
   "execution_count": 7,
   "metadata": {},
   "outputs": [],
   "source": [
    "matrix = {}\n",
    "for i in range(len(Graph)):\n",
    "    head = Graph[i][0]\n",
    "    tail = Graph[i][2]\n",
    "    if head not in matrix:\n",
    "        matrix[head] = []\n",
    "        matrix[head].append(tail)\n",
    "    elif tail not in matrix[head]:\n",
    "        matrix[head].append(tail)\n",
    "for i in range(len(Graph)):\n",
    "    tail = Graph[i][0]\n",
    "    head = Graph[i][2]\n",
    "    if head not in matrix:\n",
    "        matrix[head] = []\n",
    "        matrix[head].append(tail)\n",
    "    elif tail not in matrix[head]:\n",
    "        matrix[head].append(tail)"
   ]
  },
  {
   "cell_type": "code",
   "execution_count": 8,
   "metadata": {},
   "outputs": [
    {
     "data": {
      "text/plain": [
       "528528"
      ]
     },
     "execution_count": 8,
     "metadata": {},
     "output_type": "execute_result"
    }
   ],
   "source": [
    "len(matrix)"
   ]
  },
  {
   "cell_type": "markdown",
   "metadata": {},
   "source": [
    "## graph_bfs is my data structure for run BFS , cunstructed from Adjacency matrix "
   ]
  },
  {
   "cell_type": "code",
   "execution_count": 9,
   "metadata": {},
   "outputs": [
    {
     "data": {
      "text/plain": [
       "[['376577',\n",
       "  '150272',\n",
       "  '458492',\n",
       "  '3772',\n",
       "  '495440',\n",
       "  '476712',\n",
       "  '228744',\n",
       "  '92848',\n",
       "  '155466',\n",
       "  '293847',\n",
       "  '453739',\n",
       "  '33885',\n",
       "  '259850',\n",
       "  '115801',\n",
       "  '432865',\n",
       "  '493125',\n",
       "  '377503',\n",
       "  '48608',\n",
       "  '520969',\n",
       "  '217056'],\n",
       " ['445884', '480217', '84054', '483609', '490674', '28720']]"
      ]
     },
     "execution_count": 9,
     "metadata": {},
     "output_type": "execute_result"
    }
   ],
   "source": [
    "Components = []\n",
    "graph_bfs = []\n",
    "for k,v in matrix.items():\n",
    "    graph_bfs.append([k]+v)\n",
    "graph_bfs[:2]"
   ]
  },
  {
   "cell_type": "code",
   "execution_count": 10,
   "metadata": {},
   "outputs": [
    {
     "data": {
      "text/plain": [
       "528528"
      ]
     },
     "execution_count": 10,
     "metadata": {},
     "output_type": "execute_result"
    }
   ],
   "source": [
    "len(graph_bfs)"
   ]
  },
  {
   "cell_type": "code",
   "execution_count": 5,
   "metadata": {},
   "outputs": [],
   "source": [
    "def has_common_node(ls1,ls2):\n",
    "    if ls1 == [] or ls2 == [] :\n",
    "        return 0\n",
    "    ls2 = {i:0 for i in ls2}\n",
    "    for i in range(len(ls1)):\n",
    "        if ls1[i] in ls2:\n",
    "            return 1\n",
    "    return 0"
   ]
  },
  {
   "cell_type": "markdown",
   "metadata": {},
   "source": [
    "## main Code , after execution graph_bfs contains what we need ; you can stop this cell and execute later (kernel should be alive)\n",
    "### order of code is o(n^4) n = #(nodes) \n",
    "### it can takes 20 hours\n",
    "### out put starts with large number and converge to small one wich is # components"
   ]
  },
  {
   "cell_type": "code",
   "execution_count": 2,
   "metadata": {},
   "outputs": [],
   "source": [
    "%%time\n",
    "def connect_them(graph_bfs):\n",
    "    for i in range(len(graph_bfs)):\n",
    "        graph_bfs = [list(set(ii)) for ii in graph_bfs]\n",
    "        if len(graph_bfs[i]) == 0:\n",
    "            continue\n",
    "        for j in range(len(graph_bfs)):\n",
    "            if j % int(len(graph_bfs)/2) == int(len(graph_bfs)/2)-1:\n",
    "                return [ii for ii in graph_bfs if ii != []]\n",
    "            if i != j :\n",
    "                if has_common_node(graph_bfs[i],graph_bfs[j]) == 1:\n",
    "                    graph_bfs[i].extend(graph_bfs[j])\n",
    "                    graph_bfs[j] = []\n",
    "\n",
    "while 1:\n",
    "    a = len(graph_bfs)\n",
    "    graph_bfs = connect_them(graph_bfs)\n",
    "    print(len(graph_bfs))\n",
    "    if len(graph_bfs) == a :\n",
    "        break\n",
    "for i in range(len(graph_bfs)):\n",
    "    graph_bfs = [list(set(ii)) for ii in graph_bfs]\n",
    "    if len(graph_bfs[i]) == 0:\n",
    "        continue\n",
    "    for j in range(len(graph_bfs)):\n",
    "        if j % 10000 == 0:\n",
    "            print(len([ii for ii in graph_bfs if ii != []]))\n",
    "        if i != j :\n",
    "            if has_common_node(graph_bfs[i],graph_bfs[j]) == 1:\n",
    "                graph_bfs[i].extend(graph_bfs[j])\n",
    "                graph_bfs[j] = []    "
   ]
  },
  {
   "cell_type": "code",
   "execution_count": 8,
   "metadata": {},
   "outputs": [
    {
     "data": {
      "text/plain": [
       "347351"
      ]
     },
     "execution_count": 8,
     "metadata": {},
     "output_type": "execute_result"
    }
   ],
   "source": [
    "len([(list(set(ii))) for ii in graph_bfs if ii != []])"
   ]
  },
  {
   "cell_type": "code",
   "execution_count": 12,
   "metadata": {},
   "outputs": [
    {
     "data": {
      "text/plain": [
       "[['98709', '396875', '127015', '97138'],\n",
       " ['114052', '485190', '301552', '479188', '170562', '160387'],\n",
       " ['13076',\n",
       "  '228570',\n",
       "  '61261',\n",
       "  '289476',\n",
       "  '194441',\n",
       "  '479188',\n",
       "  '286984',\n",
       "  '359338'],\n",
       " ['254690', '397363', '467281', '444633', '530159'],\n",
       " ['359183', '397124', '406351', '514367', '526205', '493586', '407869'],\n",
       " ['314863', '160387', '500062'],\n",
       " ['149783', '41998', '396875', '50230', '530159'],\n",
       " ['98687', '304092'],\n",
       " ['281514', '236461', '371335', '374959', '151264', '429386'],\n",
       " ['126338', '397124', '406351', '222724', '526205', '414204']]"
      ]
     },
     "execution_count": 12,
     "metadata": {},
     "output_type": "execute_result"
    }
   ],
   "source": [
    "[(list(set(ii))) for ii in graph_bfs if ii != []][500:510]"
   ]
  },
  {
   "cell_type": "code",
   "execution_count": null,
   "metadata": {},
   "outputs": [],
   "source": []
  }
 ],
 "metadata": {
  "kernelspec": {
   "display_name": "Python 3",
   "language": "python",
   "name": "python3"
  },
  "language_info": {
   "codemirror_mode": {
    "name": "ipython",
    "version": 3
   },
   "file_extension": ".py",
   "mimetype": "text/x-python",
   "name": "python",
   "nbconvert_exporter": "python",
   "pygments_lexer": "ipython3",
   "version": "3.7.3"
  }
 },
 "nbformat": 4,
 "nbformat_minor": 2
}
